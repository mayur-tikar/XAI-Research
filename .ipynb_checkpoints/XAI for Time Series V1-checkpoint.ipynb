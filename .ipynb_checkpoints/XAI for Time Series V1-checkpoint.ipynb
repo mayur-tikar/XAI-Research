{
 "cells": [
  {
   "cell_type": "code",
   "execution_count": 1,
   "id": "4884a29b",
   "metadata": {},
   "outputs": [],
   "source": [
    "import numpy as np\n",
    "import pandas as pd\n",
    "\n",
    "from sklearn.preprocessing import MinMaxScaler\n",
    "from sklearn.model_selection import train_test_split\n",
    "\n",
    "from tensorflow.keras.models import Sequential\n",
    "from tensorflow.keras.layers import LSTM, Dense\n",
    "\n",
    "import plotly.express as px\n",
    "import cufflinks as cf"
   ]
  },
  {
   "cell_type": "code",
   "execution_count": 2,
   "id": "242bf30b",
   "metadata": {},
   "outputs": [],
   "source": [
    "# Load financial time series data from a CSV file\n",
    "data = pd.read_csv('AAPL_2006-01-01_to_2018-01-01.csv')\n",
    "data['Date'] = pd.to_datetime(data['Date'])\n",
    "data.set_index('Date', inplace=True)"
   ]
  },
  {
   "cell_type": "code",
   "execution_count": 3,
   "id": "526909bb",
   "metadata": {},
   "outputs": [],
   "source": [
    "# Select the feature(s) you want to use for prediction\n",
    "features = ['Open', 'High', 'Low', 'Close']\n",
    "data = data[features]"
   ]
  },
  {
   "cell_type": "code",
   "execution_count": null,
   "id": "d4d3d6c9",
   "metadata": {},
   "outputs": [],
   "source": []
  },
  {
   "cell_type": "code",
   "execution_count": 4,
   "id": "2784050a",
   "metadata": {},
   "outputs": [],
   "source": [
    "# Prepare the dataset\n",
    "#prices = data['Close'].values.reshape(-1, 1)\n",
    "\n",
    "# Normalize the data using MinMaxScaler\n",
    "scaler = MinMaxScaler()\n",
    "scaled_data = scaler.fit_transform(data)"
   ]
  },
  {
   "cell_type": "code",
   "execution_count": 5,
   "id": "a54e3b90",
   "metadata": {},
   "outputs": [],
   "source": [
    "# Define the sequence length and split the data into sequences\n",
    "sequence_length = 10\n",
    "sequences = []\n",
    "next_value = []\n",
    "for i in range(len(scaled_data) - sequence_length):\n",
    "    sequences.append(scaled_data[i:i+sequence_length])\n",
    "    next_value.append(scaled_data[i+sequence_length])\n",
    "\n",
    "sequences = np.array(sequences)\n",
    "next_value = np.array(next_value)"
   ]
  },
  {
   "cell_type": "code",
   "execution_count": 8,
   "id": "a264a6da",
   "metadata": {},
   "outputs": [],
   "source": [
    "# Split data into train and test sets\n",
    "X_train, X_test, y_train, y_test = train_test_split(sequences, next_value, test_size=0.2, random_state=42)\n"
   ]
  },
  {
   "cell_type": "code",
   "execution_count": 13,
   "id": "5603f0bf",
   "metadata": {},
   "outputs": [],
   "source": [
    "# Build the LSTM model\n",
    "model = Sequential()\n",
    "model.add(LSTM(50, return_sequences=True, input_shape=(sequence_length, len(features))))\n",
    "model.add(LSTM(50, return_sequences=False))\n",
    "model.add(Dense(len(features)))\n",
    "model.compile(optimizer='adam', loss='mean_squared_error')"
   ]
  },
  {
   "cell_type": "code",
   "execution_count": null,
   "id": "c37b0a16",
   "metadata": {},
   "outputs": [],
   "source": []
  },
  {
   "cell_type": "code",
   "execution_count": 14,
   "id": "e9fed07d",
   "metadata": {},
   "outputs": [],
   "source": [
    "# Train the model\n",
    "model.fit(X_train, y_train, batch_size=64, epochs=50, validation_data=(X_test, y_test))"
   ]
  },
  {
   "cell_type": "code",
   "execution_count": null,
   "id": "5723b7d5",
   "metadata": {},
   "outputs": [],
   "source": []
  },
  {
   "cell_type": "code",
   "execution_count": 15,
   "id": "0a457104",
   "metadata": {},
   "outputs": [],
   "source": [
    "# Make predictions\n",
    "predictions = model.predict(X_test)\n",
    "predictions = scaler.inverse_transform(predictions)\n",
    "y_test = scaler.inverse_transform(y_test)"
   ]
  },
  {
   "cell_type": "code",
   "execution_count": null,
   "id": "8bb10939",
   "metadata": {},
   "outputs": [],
   "source": []
  },
  {
   "cell_type": "code",
   "execution_count": 16,
   "id": "8f422816",
   "metadata": {},
   "outputs": [],
   "source": [
    "# Convert predictions and y_test to DataFrames\n",
    "predictions_df = pd.DataFrame(predictions, columns=features)\n",
    "y_test_df = pd.DataFrame(y_test, columns=features)"
   ]
  },
  {
   "cell_type": "code",
   "execution_count": null,
   "id": "d368a9cc",
   "metadata": {},
   "outputs": [],
   "source": []
  },
  {
   "cell_type": "code",
   "execution_count": 17,
   "id": "ecd22abd",
   "metadata": {},
   "outputs": [],
   "source": [
    "# Plot the results using Cufflinks\n",
    "cf.go_offline()\n",
    "predictions_df.iplot(title='Predictions vs. Actual', xTitle='Index', yTitle='Price')\n",
    "y_test_df.iplot(title='Actual Prices', xTitle='Index', yTitle='Price')"
   ]
  },
  {
   "cell_type": "code",
   "execution_count": null,
   "id": "c9590178",
   "metadata": {},
   "outputs": [],
   "source": []
  },
  {
   "cell_type": "code",
   "execution_count": null,
   "id": "f0bda927",
   "metadata": {},
   "outputs": [],
   "source": []
  }
 ],
 "metadata": {
  "kernelspec": {
   "display_name": "Python 3 (ipykernel)",
   "language": "python",
   "name": "python3"
  },
  "language_info": {
   "codemirror_mode": {
    "name": "ipython",
    "version": 3
   },
   "file_extension": ".py",
   "mimetype": "text/x-python",
   "name": "python",
   "nbconvert_exporter": "python",
   "pygments_lexer": "ipython3",
   "version": "3.11.3"
  }
 },
 "nbformat": 4,
 "nbformat_minor": 5
}
