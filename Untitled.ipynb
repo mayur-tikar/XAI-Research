{
 "cells": [
  {
   "cell_type": "code",
   "execution_count": 1,
   "id": "3fa954f1",
   "metadata": {},
   "outputs": [],
   "source": [
    "def fizzBuzz(n):\n",
    "    # Write your code here\n",
    "    string = ''\n",
    "    for i in range(1,n):\n",
    "        if i % 3 == 0:\n",
    "            string = string+\"Fizz\"\n",
    "        if i % 5 == 0:\n",
    "            string = string + \"Buzz\"\n",
    "        if i % 3 != 0 and i % 5 != 0:\n",
    "            string = string + str(i)\n",
    "    return string"
   ]
  },
  {
   "cell_type": "code",
   "execution_count": 2,
   "id": "8d9c75de",
   "metadata": {
    "scrolled": false
   },
   "outputs": [
    {
     "data": {
      "text/plain": [
       "'12Fizz4BuzzFizz78FizzBuzz11Fizz1314'"
      ]
     },
     "execution_count": 2,
     "metadata": {},
     "output_type": "execute_result"
    }
   ],
   "source": [
    "fizzBuzz(15)"
   ]
  },
  {
   "cell_type": "code",
   "execution_count": null,
   "id": "f6a71ac9",
   "metadata": {},
   "outputs": [],
   "source": []
  }
 ],
 "metadata": {
  "kernelspec": {
   "display_name": "Python 3 (ipykernel)",
   "language": "python",
   "name": "python3"
  },
  "language_info": {
   "codemirror_mode": {
    "name": "ipython",
    "version": 3
   },
   "file_extension": ".py",
   "mimetype": "text/x-python",
   "name": "python",
   "nbconvert_exporter": "python",
   "pygments_lexer": "ipython3",
   "version": "3.11.3"
  }
 },
 "nbformat": 4,
 "nbformat_minor": 5
}
